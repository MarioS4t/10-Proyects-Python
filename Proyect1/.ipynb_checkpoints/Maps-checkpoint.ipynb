{
 "cells": [
  {
   "cell_type": "code",
   "execution_count": 3,
   "id": "313ad836-fd24-4a46-8f57-3a8e9bdc3d54",
   "metadata": {},
   "outputs": [],
   "source": [
    "import folium\n",
    "\n",
    "# Crear un mapa centrado en una ubicación\n",
    "mymap = folium.Map(location=[19.432608, -99.133209], zoom_start=12)  # Ciudad de México\n",
    "\n",
    "# Agregar un marcador al mapa\n",
    "folium.Marker([19.432608, -99.133209], popup=\"CDMX\").add_to(mymap)\n",
    "\n",
    "# Mostrar el mapa\n",
    "mymap.save(\"mapa.html\")  # Guarda el mapa como un archivo HTML\n"
   ]
  },
  {
   "cell_type": "code",
   "execution_count": 8,
   "id": "2a506853-32f6-4926-9415-975beb0b80bd",
   "metadata": {},
   "outputs": [],
   "source": [
    "import folium\n",
    "# Create a map centered on a location\n",
    "map = folium.Map(location=[38.58, -99.09], zoom_start=6, tiles=\"Mapbox Bright\", attr=\"Mapbox\")\n",
    "# Add a marker to the map\n",
    "map.add_child(folium.Marker(location=[38.2, -99.1], popup=\"Hi I am Marker\", icon=folium.Icon(color='green')))\n",
    "# Save the map as an HTML file\n",
    "map.save(\"Map1.html\")\n"
   ]
  },
  {
   "cell_type": "code",
   "execution_count": null,
   "id": "272d516d-005b-4bfe-882a-47216c7d32bf",
   "metadata": {},
   "outputs": [],
   "source": []
  },
  {
   "cell_type": "code",
   "execution_count": null,
   "id": "3b88da50-1509-46f2-914a-4ddd81bc52a5",
   "metadata": {},
   "outputs": [],
   "source": []
  }
 ],
 "metadata": {
  "kernelspec": {
   "display_name": "Python 3 (ipykernel)",
   "language": "python",
   "name": "python3"
  },
  "language_info": {
   "codemirror_mode": {
    "name": "ipython",
    "version": 3
   },
   "file_extension": ".py",
   "mimetype": "text/x-python",
   "name": "python",
   "nbconvert_exporter": "python",
   "pygments_lexer": "ipython3",
   "version": "3.11.9"
  }
 },
 "nbformat": 4,
 "nbformat_minor": 5
}
