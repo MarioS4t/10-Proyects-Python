{
 "cells": [
  {
   "cell_type": "code",
   "execution_count": 15,
   "id": "6c50cf30-305b-4c89-88a5-1542c2d596eb",
   "metadata": {},
   "outputs": [],
   "source": [
    "import cv2"
   ]
  },
  {
   "cell_type": "code",
   "execution_count": 2,
   "id": "abf1064b-dc46-4ab6-afba-f8c9ded68430",
   "metadata": {},
   "outputs": [
    {
     "name": "stdout",
     "output_type": "stream",
     "text": [
      "[[14 18 14 ... 20 15 16]\n",
      " [12 16 12 ... 20 15 17]\n",
      " [12 13 16 ... 14 24 21]\n",
      " ...\n",
      " [ 0  0  0 ...  5  8 14]\n",
      " [ 0  0  0 ...  2  3  9]\n",
      " [ 1  1  1 ...  1  1  3]]\n"
     ]
    }
   ],
   "source": [
    "img = cv2.imread('galaxy.jpg', 0)\n",
    "print(img)"
   ]
  },
  {
   "cell_type": "code",
   "execution_count": 3,
   "id": "d4f90f01-b28f-461b-babf-fd27763483ef",
   "metadata": {},
   "outputs": [
    {
     "name": "stdout",
     "output_type": "stream",
     "text": [
      "(1485, 990)\n"
     ]
    }
   ],
   "source": [
    "print(img.shape)"
   ]
  },
  {
   "cell_type": "code",
   "execution_count": 4,
   "id": "150c995d-f4b7-47e1-a0e3-5b203864fce9",
   "metadata": {},
   "outputs": [
    {
     "name": "stdout",
     "output_type": "stream",
     "text": [
      "2\n"
     ]
    }
   ],
   "source": [
    "print(img.ndim)"
   ]
  },
  {
   "cell_type": "code",
   "execution_count": 5,
   "id": "b0bfb47c-05b0-45d4-bf77-ecb420e1a0bf",
   "metadata": {},
   "outputs": [],
   "source": [
    "rez_img = cv2.resize(img,(int(img.shape[1]/2), int(img.shape[0]/2)))"
   ]
  },
  {
   "cell_type": "code",
   "execution_count": 6,
   "id": "e91b2932-29f0-4f3b-98fd-7bfd50dd9f80",
   "metadata": {},
   "outputs": [],
   "source": [
    "cv2.imshow('galaxy.jpg', rez_img)\n",
    "cv2.imwrite(\"galaxy_resized.jpg\", rez_img)\n",
    "cv2.waitKey(5000)\n",
    "cv2.destroyAllWindows()"
   ]
  },
  {
   "cell_type": "code",
   "execution_count": 7,
   "id": "552833b5-d837-4a6b-94d3-91e36533edb7",
   "metadata": {},
   "outputs": [
    {
     "data": {
      "text/plain": [
       "array([[[227, 252, 255],\n",
       "        [228, 253, 255],\n",
       "        [228, 253, 255],\n",
       "        ...,\n",
       "        [ 55,  85, 120],\n",
       "        [ 54,  84, 119],\n",
       "        [ 42,  72, 107]],\n",
       "\n",
       "       [[227, 252, 255],\n",
       "        [227, 252, 255],\n",
       "        [228, 253, 255],\n",
       "        ...,\n",
       "        [ 51,  81, 116],\n",
       "        [ 34,  64,  99],\n",
       "        [ 34,  64,  99]],\n",
       "\n",
       "       [[227, 252, 255],\n",
       "        [227, 252, 255],\n",
       "        [227, 252, 255],\n",
       "        ...,\n",
       "        [ 27,  57,  92],\n",
       "        [ 24,  54,  89],\n",
       "        [ 27,  57,  92]],\n",
       "\n",
       "       ...,\n",
       "\n",
       "       [[ 59, 103, 162],\n",
       "        [ 46,  90, 149],\n",
       "        [ 62, 106, 167],\n",
       "        ...,\n",
       "        [ 58, 114, 185],\n",
       "        [ 56, 112, 183],\n",
       "        [ 56, 113, 182]],\n",
       "\n",
       "       [[ 74, 118, 179],\n",
       "        [ 62, 106, 167],\n",
       "        [ 67, 111, 172],\n",
       "        ...,\n",
       "        [ 70, 128, 200],\n",
       "        [ 75, 133, 205],\n",
       "        [ 72, 131, 201]],\n",
       "\n",
       "       [[ 60, 104, 165],\n",
       "        [ 60, 104, 165],\n",
       "        [ 58, 102, 163],\n",
       "        ...,\n",
       "        [ 76, 134, 206],\n",
       "        [ 82, 140, 212],\n",
       "        [ 78, 136, 208]]], dtype=uint8)"
      ]
     },
     "execution_count": 7,
     "metadata": {},
     "output_type": "execute_result"
    }
   ],
   "source": [
    "img2 = cv2.imread('sample_images/kangaroos-rain-australia_71370_990x742.jpg')\n",
    "img2"
   ]
  },
  {
   "cell_type": "code",
   "execution_count": 8,
   "id": "56e55c51-8424-4626-9940-e24b5ff5eac6",
   "metadata": {},
   "outputs": [],
   "source": [
    "res_img2 = cv2.resize(img2, (int(img.shape[1]/2), int(img.shape[0]/2)))\n",
    "cv2.imshow('sample_images/kangaroos-rain-australia_71370_990x742.jpg', res_img2)\n",
    "cv2.imwrite('Img2_resize.jpg', res_img2)\n",
    "cv2.waitKey(5000)\n",
    "cv2.destroyAllWindows()\n"
   ]
  },
  {
   "cell_type": "code",
   "execution_count": 9,
   "id": "cc774cfa-df4d-4561-90e5-c1b2c0fd07e4",
   "metadata": {},
   "outputs": [
    {
     "data": {
      "text/plain": [
       "array([[141, 140, 140, ..., 198, 198, 197],\n",
       "       [143, 141, 139, ..., 197, 199, 197],\n",
       "       [140, 141, 141, ..., 198, 200, 197],\n",
       "       ...,\n",
       "       [ 12,  13,  12, ...,  25,  18,  13],\n",
       "       [ 14,  16,  17, ...,  17,  14,  14],\n",
       "       [  8,  12,  17, ...,  11,   9,  16]], dtype=uint8)"
      ]
     },
     "execution_count": 9,
     "metadata": {},
     "output_type": "execute_result"
    }
   ],
   "source": [
    "img3 = cv2.imread('sample_images/Lighthouse.jpg', 0)\n",
    "img3"
   ]
  },
  {
   "cell_type": "code",
   "execution_count": 10,
   "id": "685febb6-37d2-457f-a482-14e79f41deda",
   "metadata": {},
   "outputs": [
    {
     "data": {
      "text/plain": [
       "(768, 1024)"
      ]
     },
     "execution_count": 10,
     "metadata": {},
     "output_type": "execute_result"
    }
   ],
   "source": [
    "img3.shape"
   ]
  },
  {
   "cell_type": "code",
   "execution_count": null,
   "id": "b603f474-c25d-479c-996a-2ed3291b5cc3",
   "metadata": {},
   "outputs": [],
   "source": [
    "res_img3 = cv2.resize(img3, (int(img.shape[1]/2), int(img.shape[0]/2)))\n",
    "cv2.imshow('sample_images/Lighthouse.jpg', res_img3)\n",
    "cv2.imwrite('img3_resize.jpg', res_img3)\n",
    "cv2.waitKey(5000)\n",
    "cv2.destroyAllWindows()"
   ]
  },
  {
   "cell_type": "code",
   "execution_count": null,
   "id": "cda3d366-a627-4148-a755-8c2408cec12b",
   "metadata": {},
   "outputs": [],
   "source": [
    "img4 = cv2.imread('sample_images/Moon sinking, sun rising.jpg', 0)\n",
    "img4"
   ]
  },
  {
   "cell_type": "code",
   "execution_count": null,
   "id": "81c62d44-4b75-4814-904d-5345719ee906",
   "metadata": {},
   "outputs": [],
   "source": [
    "img4.shape"
   ]
  },
  {
   "cell_type": "code",
   "execution_count": null,
   "id": "f2b22d1e-c608-40e7-881e-b75b346ed6a9",
   "metadata": {},
   "outputs": [],
   "source": [
    "res_img4 = cv2.resize(img4,(int(img4.shape[1]/2), int(img4.shape[1]/2)))\n",
    "cv2.imshow('sample_images/Moon sinking, sun rising.jpg', res_img4)\n",
    "cv2.imwrite('img4_resize.jpg', res_img4)\n",
    "cv2.waitKey(5000)\n",
    "cv2.destroyAllWindows()"
   ]
  },
  {
   "cell_type": "code",
   "execution_count": 28,
   "id": "c222591e-5151-4090-806d-1431c951adb6",
   "metadata": {},
   "outputs": [
    {
     "name": "stdout",
     "output_type": "stream",
     "text": [
      "<class 'numpy.ndarray'>\n",
      "[[ 43 214 122 122]]\n"
     ]
    }
   ],
   "source": [
    "face_cascade = cv2.CascadeClassifier(\"Files/haarcascade_frontalface_default.xml\")\n",
    "img = cv2.imread(\"Files/news.jpg\")\n",
    "gray_image = cv2.cvtColor(img, cv2.COLOR_BGR2GRAY)\n",
    "\n",
    "faces = face_cascade.detectMultiScale(gray_image,scaleFactor=1.5, minNeighbors=5)\n",
    "\n",
    "for x,y,w,h in faces:\n",
    "    img=cv2.rectangle(img,(x,y), (x+w,y+h), (0,255,00), 3)\n",
    "\n",
    "print(type(faces))\n",
    "print(faces)\n",
    "\n",
    "\n",
    "cv2.imshow(\"Gray\", img)\n",
    "cv2.waitKey(5000)\n",
    "cv2.destroyAllWindows()"
   ]
  },
  {
   "cell_type": "code",
   "execution_count": null,
   "id": "3c1948c1-1b3d-498d-986d-2e52198d6b04",
   "metadata": {},
   "outputs": [],
   "source": []
  }
 ],
 "metadata": {
  "kernelspec": {
   "display_name": "Python 3 (ipykernel)",
   "language": "python",
   "name": "python3"
  },
  "language_info": {
   "codemirror_mode": {
    "name": "ipython",
    "version": 3
   },
   "file_extension": ".py",
   "mimetype": "text/x-python",
   "name": "python",
   "nbconvert_exporter": "python",
   "pygments_lexer": "ipython3",
   "version": "3.11.9"
  }
 },
 "nbformat": 4,
 "nbformat_minor": 5
}
